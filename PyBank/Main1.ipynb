{
 "cells": [
  {
   "cell_type": "code",
   "execution_count": 81,
   "metadata": {},
   "outputs": [
    {
     "name": "stdout",
     "output_type": "stream",
     "text": [
      "Total of Months 86\n"
     ]
    }
   ],
   "source": [
    "\"\"\"\n",
    "PyBank Analysis\n",
    "\n",
    "The total number of months included in the dataset.\n",
    "The net total amount of Profit/Losses over the entire period.\n",
    "The average of the changes in Profit/Losses over the entire period.\n",
    "The greatest increase in profits (date and amount) over the entire period.\n",
    "The greatest decrease in losses (date and amount) over the entire period.\n",
    "\n",
    "\"\"\"\n",
    "from pathlib import Path\n",
    "import csv\n",
    "\n",
    "\n",
    "csvpath = Path('../PyBank/budget_data.csv')\n",
    "\n",
    "\n",
    "\n",
    "\n",
    "\n",
    "with open(csvpath, 'r') as csvfile:\n",
    "    csvreader = csv.reader(csvfile, delimiter=',')\n",
    "    header = next(csvreader)\n",
    "    \n",
    "file = open(\"budget_data.csv\")\n",
    "reader = csv.reader(file)\n",
    "next(reader)\n",
    "lines= len(list(reader))\n",
    "\n",
    "print(\"Total of Months\", lines)\n",
    "    \n",
    "\n",
    "    \n",
    "   "
   ]
  },
  {
   "cell_type": "code",
   "execution_count": 92,
   "metadata": {},
   "outputs": [
    {
     "name": "stdout",
     "output_type": "stream",
     "text": [
      "Total 38382578\n"
     ]
    }
   ],
   "source": [
    "total = 0\n",
    "file = open(\"budget_data.csv\")\n",
    "reader = csv.reader(file)\n",
    "next(reader)\n",
    "for column in csv.reader(file):\n",
    "        total += int(column[1])\n",
    "print(\"Total\", total)"
   ]
  },
  {
   "cell_type": "code",
   "execution_count": 115,
   "metadata": {},
   "outputs": [
    {
     "name": "stdout",
     "output_type": "stream",
     "text": [
      "1170593\n"
     ]
    }
   ],
   "source": [
    "with open(\"budget_data.csv\") as f:\n",
    "    reader = csv.reader(f)\n",
    "    next(reader)     \n",
    "    Profit = max(int(column[1].replace(',', '')) for column in reader)\n",
    "print(Profit)\n",
    "    \n",
    "    "
   ]
  },
  {
   "cell_type": "code",
   "execution_count": 116,
   "metadata": {},
   "outputs": [
    {
     "name": "stdout",
     "output_type": "stream",
     "text": [
      "-1196225\n"
     ]
    }
   ],
   "source": [
    "with open(\"budget_data.csv\") as f:\n",
    "    reader = csv.reader(f)\n",
    "    next(reader)     \n",
    "    Losses = min(int(column[1].replace(',', '')) for column in reader)\n",
    "print(Losses)"
   ]
  },
  {
   "cell_type": "code",
   "execution_count": 118,
   "metadata": {},
   "outputs": [
    {
     "name": "stdout",
     "output_type": "stream",
     "text": [
      "Financial Analysis\n",
      "----------------------\n",
      "Total Months: 86\n",
      "Total Revenue: 38382578\n",
      "Average Change: 7803.476744186047\n",
      "Greatest Increase ('Feb-2012', 1926159.0)\n",
      "Greatest Decrease ('Sep-2013', -2196167.0)\n"
     ]
    }
   ],
   "source": [
    "# Need New Variables\n",
    "total_months = 0\n",
    "total_revenue = 0\n",
    "revenue = []\n",
    "previous_revenue = 0\n",
    "month_of_change = []\n",
    "revenue_change = 0\n",
    "greatest_decrease = [\"\", 9999999]\n",
    "greatest_increase = [\"\", 0]\n",
    "revenue_change_list = []\n",
    "revenue_average = 0\n",
    "\n",
    "#open the csv file\n",
    "with open('budget_data.csv') as csvfile:  \n",
    "    csvreader = csv.DictReader(csvfile)\n",
    "\n",
    "    #Loop through to find total months\n",
    "    for row in csvreader:\n",
    "\n",
    "        #Count the total of months\n",
    "        total_months += 1\n",
    "\n",
    "        #Calculate the total revenue over the entire period\n",
    "        total_revenue = total_revenue + int(row[\"Profit/Losses\"])\n",
    "\n",
    "        #Calculate the average change in revenue between months over the entire period\n",
    "        revenue_change = float(row[\"Profit/Losses\"])- previous_revenue\n",
    "        previous_revenue = float(row[\"Profit/Losses\"])\n",
    "        revenue_change_list = revenue_change_list + [revenue_change]\n",
    "        month_of_change = [month_of_change] + [row[\"Date\"]]\n",
    "        \n",
    "         #The greatest increase in revenue (date and amount) over the entire period\n",
    "        if revenue_change>greatest_increase[1]:\n",
    "            greatest_increase[1]= revenue_change\n",
    "            greatest_increase[0] = row['Date']\n",
    "\n",
    "        #The greatest decrease in revenue (date and amount) over the entire period\n",
    "        if revenue_change<greatest_decrease[1]:\n",
    "            greatest_decrease[1]= revenue_change\n",
    "            greatest_decrease[0] = row['Date']\n",
    "    revenue_average = sum(revenue_change_list)/len(revenue_change_list)\n",
    "    \n",
    "    print(\"Financial Analysis\")\n",
    "    print(\"----------------------\")\n",
    "    print(\"Total Months:\", total_months)\n",
    "    print(\"Total Revenue:\", total_revenue)\n",
    "    print(\"Average Change:\", revenue_average)\n",
    "    print(\"Greatest Increase\", (greatest_increase[0], greatest_increase[1]))\n",
    "    print(\"Greatest Decrease\", (greatest_decrease[0], greatest_decrease[1]))\n",
    "    \n",
    "    #write changes to csv\n",
    "    \n",
    "#set the output of the text file\n",
    "text_path = \"output.txt\"\n",
    "\n",
    "with open(text_path, 'w') as file:\n",
    "    file.write(\"Financial Analysis\\n\")\n",
    "    file.write(\"---------------------\\n\")\n",
    "    file.write(\"Total Months: %d\\n\" % total_months)\n",
    "    file.write(\"Total Revenue: $%d\\n\" % total_revenue)\n",
    "    file.write(\"Average Revenue Change $%d\\n\" % revenue_average)\n",
    "    file.write(\"Greatest Increase in Revenue: %s ($%s)\\n\" % (greatest_increase[0], greatest_increase[1]))\n",
    "    file.write(\"Greatest Decrease in Revenue: %s ($%s)\\n\" % (greatest_decrease[0], greatest_decrease[1]))"
   ]
  },
  {
   "cell_type": "code",
   "execution_count": null,
   "metadata": {},
   "outputs": [],
   "source": []
  }
 ],
 "metadata": {
  "kernelspec": {
   "display_name": "Python 3",
   "language": "python",
   "name": "python3"
  },
  "language_info": {
   "codemirror_mode": {
    "name": "ipython",
    "version": 3
   },
   "file_extension": ".py",
   "mimetype": "text/x-python",
   "name": "python",
   "nbconvert_exporter": "python",
   "pygments_lexer": "ipython3",
   "version": "3.8.5"
  }
 },
 "nbformat": 4,
 "nbformat_minor": 4
}
